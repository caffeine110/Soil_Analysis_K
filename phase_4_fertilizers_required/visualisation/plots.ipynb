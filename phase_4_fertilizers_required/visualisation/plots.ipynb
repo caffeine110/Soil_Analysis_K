{
 "cells": [
  {
   "cell_type": "code",
   "execution_count": null,
   "metadata": {},
   "outputs": [],
   "source": []
  },
  {
   "cell_type": "code",
   "execution_count": null,
   "metadata": {},
   "outputs": [],
   "source": []
  },
  {
   "cell_type": "code",
   "execution_count": 1,
   "metadata": {},
   "outputs": [],
   "source": [
    "import pandas as pd\n",
    "import numpy as np\n",
    "import matplotlib.pyplot as plt\n",
    "import seaborn as sns"
   ]
  },
  {
   "cell_type": "code",
   "execution_count": 2,
   "metadata": {},
   "outputs": [
    {
     "data": {
      "text/html": [
       "<div>\n",
       "<style scoped>\n",
       "    .dataframe tbody tr th:only-of-type {\n",
       "        vertical-align: middle;\n",
       "    }\n",
       "\n",
       "    .dataframe tbody tr th {\n",
       "        vertical-align: top;\n",
       "    }\n",
       "\n",
       "    .dataframe thead th {\n",
       "        text-align: right;\n",
       "    }\n",
       "</style>\n",
       "<table border=\"1\" class=\"dataframe\">\n",
       "  <thead>\n",
       "    <tr style=\"text-align: right;\">\n",
       "      <th></th>\n",
       "      <th>Latitude</th>\n",
       "      <th>Longitude</th>\n",
       "      <th>Soil_type</th>\n",
       "      <th>Extent_AC</th>\n",
       "      <th>Crop_type</th>\n",
       "      <th>pH</th>\n",
       "      <th>EC</th>\n",
       "      <th>OC</th>\n",
       "      <th>Avail_P</th>\n",
       "      <th>Exch_K</th>\n",
       "      <th>Avail_Ca</th>\n",
       "      <th>Avail_Mg</th>\n",
       "      <th>Avail_S</th>\n",
       "      <th>Avail_Zn</th>\n",
       "      <th>Avail_B</th>\n",
       "      <th>Avail_Fe</th>\n",
       "      <th>Avail_Cu</th>\n",
       "      <th>Avail_Mn</th>\n",
       "    </tr>\n",
       "  </thead>\n",
       "  <tbody>\n",
       "    <tr>\n",
       "      <th>0</th>\n",
       "      <td>14.08</td>\n",
       "      <td>77.69</td>\n",
       "      <td>Mixed soil</td>\n",
       "      <td>2.37</td>\n",
       "      <td>G.Nut</td>\n",
       "      <td>6.19</td>\n",
       "      <td>0.07</td>\n",
       "      <td>0.18</td>\n",
       "      <td>7.13</td>\n",
       "      <td>41</td>\n",
       "      <td>587</td>\n",
       "      <td>101</td>\n",
       "      <td>5.16</td>\n",
       "      <td>0.30</td>\n",
       "      <td>0.17</td>\n",
       "      <td>8.89</td>\n",
       "      <td>0.51</td>\n",
       "      <td>15.24</td>\n",
       "    </tr>\n",
       "    <tr>\n",
       "      <th>1</th>\n",
       "      <td>14.09</td>\n",
       "      <td>77.69</td>\n",
       "      <td>Redsoil</td>\n",
       "      <td>1.23</td>\n",
       "      <td>G.Nut</td>\n",
       "      <td>8.40</td>\n",
       "      <td>0.33</td>\n",
       "      <td>0.31</td>\n",
       "      <td>10.34</td>\n",
       "      <td>102</td>\n",
       "      <td>811</td>\n",
       "      <td>261</td>\n",
       "      <td>9.91</td>\n",
       "      <td>0.36</td>\n",
       "      <td>0.57</td>\n",
       "      <td>3.24</td>\n",
       "      <td>0.44</td>\n",
       "      <td>6.90</td>\n",
       "    </tr>\n",
       "    <tr>\n",
       "      <th>2</th>\n",
       "      <td>14.09</td>\n",
       "      <td>77.69</td>\n",
       "      <td>Mixed soil</td>\n",
       "      <td>2.00</td>\n",
       "      <td>G.Nut</td>\n",
       "      <td>7.10</td>\n",
       "      <td>0.11</td>\n",
       "      <td>0.17</td>\n",
       "      <td>8.46</td>\n",
       "      <td>46</td>\n",
       "      <td>582</td>\n",
       "      <td>48</td>\n",
       "      <td>3.77</td>\n",
       "      <td>0.37</td>\n",
       "      <td>0.19</td>\n",
       "      <td>5.54</td>\n",
       "      <td>0.42</td>\n",
       "      <td>8.34</td>\n",
       "    </tr>\n",
       "    <tr>\n",
       "      <th>3</th>\n",
       "      <td>14.10</td>\n",
       "      <td>77.70</td>\n",
       "      <td>Sandi soil</td>\n",
       "      <td>1.36</td>\n",
       "      <td>Horsegram</td>\n",
       "      <td>8.30</td>\n",
       "      <td>0.21</td>\n",
       "      <td>0.20</td>\n",
       "      <td>2.31</td>\n",
       "      <td>35</td>\n",
       "      <td>3048</td>\n",
       "      <td>52</td>\n",
       "      <td>4.14</td>\n",
       "      <td>0.23</td>\n",
       "      <td>0.21</td>\n",
       "      <td>1.79</td>\n",
       "      <td>0.67</td>\n",
       "      <td>4.17</td>\n",
       "    </tr>\n",
       "    <tr>\n",
       "      <th>4</th>\n",
       "      <td>14.09</td>\n",
       "      <td>77.69</td>\n",
       "      <td>Mixed soil</td>\n",
       "      <td>1.50</td>\n",
       "      <td>Horsegram</td>\n",
       "      <td>6.40</td>\n",
       "      <td>0.06</td>\n",
       "      <td>0.22</td>\n",
       "      <td>6.08</td>\n",
       "      <td>76</td>\n",
       "      <td>511</td>\n",
       "      <td>84</td>\n",
       "      <td>1.45</td>\n",
       "      <td>0.36</td>\n",
       "      <td>0.22</td>\n",
       "      <td>22.26</td>\n",
       "      <td>0.45</td>\n",
       "      <td>9.20</td>\n",
       "    </tr>\n",
       "  </tbody>\n",
       "</table>\n",
       "</div>"
      ],
      "text/plain": [
       "   Latitude  Longitude   Soil_type Extent_AC  Crop_type    pH    EC    OC  \\\n",
       "0     14.08      77.69  Mixed soil      2.37      G.Nut  6.19  0.07  0.18   \n",
       "1     14.09      77.69     Redsoil      1.23      G.Nut  8.40  0.33  0.31   \n",
       "2     14.09      77.69  Mixed soil      2.00      G.Nut  7.10  0.11  0.17   \n",
       "3     14.10      77.70  Sandi soil      1.36  Horsegram  8.30  0.21  0.20   \n",
       "4     14.09      77.69  Mixed soil      1.50  Horsegram  6.40  0.06  0.22   \n",
       "\n",
       "   Avail_P  Exch_K  Avail_Ca  Avail_Mg  Avail_S  Avail_Zn  Avail_B  Avail_Fe  \\\n",
       "0     7.13      41       587       101     5.16      0.30     0.17      8.89   \n",
       "1    10.34     102       811       261     9.91      0.36     0.57      3.24   \n",
       "2     8.46      46       582        48     3.77      0.37     0.19      5.54   \n",
       "3     2.31      35      3048        52     4.14      0.23     0.21      1.79   \n",
       "4     6.08      76       511        84     1.45      0.36     0.22     22.26   \n",
       "\n",
       "   Avail_Cu  Avail_Mn  \n",
       "0      0.51     15.24  \n",
       "1      0.44      6.90  \n",
       "2      0.42      8.34  \n",
       "3      0.67      4.17  \n",
       "4      0.45      9.20  "
      ]
     },
     "execution_count": 2,
     "metadata": {},
     "output_type": "execute_result"
    }
   ],
   "source": [
    "filePath = '../input/complete_details_ap.csv'\n",
    "fieldNames = [\"Latitude\",\"Longitude\",\"Soil_type\",\"Extent_AC\",\"Crop_type\",\"pH\",\"EC\",\"OC\",\"Avail_P\",\"Exch_K\",\"Avail_Ca\",\"Avail_Mg\",\"Avail_S\",\"Avail_Zn\",\"Avail_B\",\"Avail_Fe\",\"Avail_Cu\",\"Avail_Mn\"]\n",
    "\n",
    "#df = pd.read_csv(filePath)\n",
    "df = pd.read_csv(filePath, usecols = fieldNames)\n",
    "df.head()"
   ]
  },
  {
   "cell_type": "code",
   "execution_count": 3,
   "metadata": {},
   "outputs": [
    {
     "data": {
      "text/html": [
       "<div>\n",
       "<style scoped>\n",
       "    .dataframe tbody tr th:only-of-type {\n",
       "        vertical-align: middle;\n",
       "    }\n",
       "\n",
       "    .dataframe tbody tr th {\n",
       "        vertical-align: top;\n",
       "    }\n",
       "\n",
       "    .dataframe thead th {\n",
       "        text-align: right;\n",
       "    }\n",
       "</style>\n",
       "<table border=\"1\" class=\"dataframe\">\n",
       "  <thead>\n",
       "    <tr style=\"text-align: right;\">\n",
       "      <th></th>\n",
       "      <th>Latitude</th>\n",
       "      <th>Longitude</th>\n",
       "      <th>pH</th>\n",
       "      <th>EC</th>\n",
       "      <th>OC</th>\n",
       "      <th>Avail_P</th>\n",
       "      <th>Exch_K</th>\n",
       "      <th>Avail_Ca</th>\n",
       "      <th>Avail_Mg</th>\n",
       "      <th>Avail_S</th>\n",
       "      <th>Avail_Zn</th>\n",
       "      <th>Avail_B</th>\n",
       "      <th>Avail_Fe</th>\n",
       "      <th>Avail_Cu</th>\n",
       "      <th>Avail_Mn</th>\n",
       "    </tr>\n",
       "  </thead>\n",
       "  <tbody>\n",
       "    <tr>\n",
       "      <th>count</th>\n",
       "      <td>4815.000000</td>\n",
       "      <td>4815.000000</td>\n",
       "      <td>4815.000000</td>\n",
       "      <td>4815.000000</td>\n",
       "      <td>4813.000000</td>\n",
       "      <td>4815.000000</td>\n",
       "      <td>4815.000000</td>\n",
       "      <td>4815.000000</td>\n",
       "      <td>4815.000000</td>\n",
       "      <td>4814.000000</td>\n",
       "      <td>4815.000000</td>\n",
       "      <td>4814.000000</td>\n",
       "      <td>4815.000000</td>\n",
       "      <td>4815.000000</td>\n",
       "      <td>4815.000000</td>\n",
       "    </tr>\n",
       "    <tr>\n",
       "      <th>mean</th>\n",
       "      <td>15.932941</td>\n",
       "      <td>80.482434</td>\n",
       "      <td>7.477844</td>\n",
       "      <td>0.489531</td>\n",
       "      <td>0.476131</td>\n",
       "      <td>16.704285</td>\n",
       "      <td>159.676012</td>\n",
       "      <td>2416.086604</td>\n",
       "      <td>522.878920</td>\n",
       "      <td>47.995798</td>\n",
       "      <td>1.111973</td>\n",
       "      <td>1.165897</td>\n",
       "      <td>28.349657</td>\n",
       "      <td>2.533325</td>\n",
       "      <td>18.805155</td>\n",
       "    </tr>\n",
       "    <tr>\n",
       "      <th>std</th>\n",
       "      <td>1.737067</td>\n",
       "      <td>2.046098</td>\n",
       "      <td>1.052134</td>\n",
       "      <td>1.045581</td>\n",
       "      <td>0.255921</td>\n",
       "      <td>18.810818</td>\n",
       "      <td>135.616280</td>\n",
       "      <td>2155.234533</td>\n",
       "      <td>473.764527</td>\n",
       "      <td>116.114801</td>\n",
       "      <td>1.396243</td>\n",
       "      <td>1.004542</td>\n",
       "      <td>38.578050</td>\n",
       "      <td>3.061383</td>\n",
       "      <td>18.965475</td>\n",
       "    </tr>\n",
       "    <tr>\n",
       "      <th>min</th>\n",
       "      <td>12.810000</td>\n",
       "      <td>75.280000</td>\n",
       "      <td>4.150000</td>\n",
       "      <td>0.010000</td>\n",
       "      <td>0.010000</td>\n",
       "      <td>0.450000</td>\n",
       "      <td>12.000000</td>\n",
       "      <td>20.000000</td>\n",
       "      <td>2.000000</td>\n",
       "      <td>0.100000</td>\n",
       "      <td>0.030000</td>\n",
       "      <td>0.030000</td>\n",
       "      <td>0.040000</td>\n",
       "      <td>0.030000</td>\n",
       "      <td>0.010000</td>\n",
       "    </tr>\n",
       "    <tr>\n",
       "      <th>25%</th>\n",
       "      <td>14.520000</td>\n",
       "      <td>78.820000</td>\n",
       "      <td>6.740000</td>\n",
       "      <td>0.110000</td>\n",
       "      <td>0.290000</td>\n",
       "      <td>5.160000</td>\n",
       "      <td>82.000000</td>\n",
       "      <td>839.000000</td>\n",
       "      <td>184.000000</td>\n",
       "      <td>4.630000</td>\n",
       "      <td>0.410000</td>\n",
       "      <td>0.460000</td>\n",
       "      <td>5.780000</td>\n",
       "      <td>0.930000</td>\n",
       "      <td>8.100000</td>\n",
       "    </tr>\n",
       "    <tr>\n",
       "      <th>50%</th>\n",
       "      <td>15.550000</td>\n",
       "      <td>80.080000</td>\n",
       "      <td>7.810000</td>\n",
       "      <td>0.220000</td>\n",
       "      <td>0.430000</td>\n",
       "      <td>10.930000</td>\n",
       "      <td>129.000000</td>\n",
       "      <td>1652.000000</td>\n",
       "      <td>374.000000</td>\n",
       "      <td>11.010000</td>\n",
       "      <td>0.700000</td>\n",
       "      <td>0.880000</td>\n",
       "      <td>12.210000</td>\n",
       "      <td>1.460000</td>\n",
       "      <td>12.960000</td>\n",
       "    </tr>\n",
       "    <tr>\n",
       "      <th>75%</th>\n",
       "      <td>17.680000</td>\n",
       "      <td>82.420000</td>\n",
       "      <td>8.270000</td>\n",
       "      <td>0.510000</td>\n",
       "      <td>0.620000</td>\n",
       "      <td>21.410000</td>\n",
       "      <td>196.000000</td>\n",
       "      <td>3150.500000</td>\n",
       "      <td>715.500000</td>\n",
       "      <td>34.655000</td>\n",
       "      <td>1.250000</td>\n",
       "      <td>1.577500</td>\n",
       "      <td>33.980000</td>\n",
       "      <td>2.600000</td>\n",
       "      <td>22.125000</td>\n",
       "    </tr>\n",
       "    <tr>\n",
       "      <th>max</th>\n",
       "      <td>18.800000</td>\n",
       "      <td>84.190000</td>\n",
       "      <td>9.890000</td>\n",
       "      <td>27.500000</td>\n",
       "      <td>2.640000</td>\n",
       "      <td>361.940000</td>\n",
       "      <td>2409.000000</td>\n",
       "      <td>13304.000000</td>\n",
       "      <td>5363.000000</td>\n",
       "      <td>2539.580000</td>\n",
       "      <td>23.920000</td>\n",
       "      <td>13.730000</td>\n",
       "      <td>354.700000</td>\n",
       "      <td>20.180000</td>\n",
       "      <td>256.880000</td>\n",
       "    </tr>\n",
       "  </tbody>\n",
       "</table>\n",
       "</div>"
      ],
      "text/plain": [
       "          Latitude    Longitude           pH           EC           OC  \\\n",
       "count  4815.000000  4815.000000  4815.000000  4815.000000  4813.000000   \n",
       "mean     15.932941    80.482434     7.477844     0.489531     0.476131   \n",
       "std       1.737067     2.046098     1.052134     1.045581     0.255921   \n",
       "min      12.810000    75.280000     4.150000     0.010000     0.010000   \n",
       "25%      14.520000    78.820000     6.740000     0.110000     0.290000   \n",
       "50%      15.550000    80.080000     7.810000     0.220000     0.430000   \n",
       "75%      17.680000    82.420000     8.270000     0.510000     0.620000   \n",
       "max      18.800000    84.190000     9.890000    27.500000     2.640000   \n",
       "\n",
       "           Avail_P       Exch_K      Avail_Ca     Avail_Mg      Avail_S  \\\n",
       "count  4815.000000  4815.000000   4815.000000  4815.000000  4814.000000   \n",
       "mean     16.704285   159.676012   2416.086604   522.878920    47.995798   \n",
       "std      18.810818   135.616280   2155.234533   473.764527   116.114801   \n",
       "min       0.450000    12.000000     20.000000     2.000000     0.100000   \n",
       "25%       5.160000    82.000000    839.000000   184.000000     4.630000   \n",
       "50%      10.930000   129.000000   1652.000000   374.000000    11.010000   \n",
       "75%      21.410000   196.000000   3150.500000   715.500000    34.655000   \n",
       "max     361.940000  2409.000000  13304.000000  5363.000000  2539.580000   \n",
       "\n",
       "          Avail_Zn      Avail_B     Avail_Fe     Avail_Cu     Avail_Mn  \n",
       "count  4815.000000  4814.000000  4815.000000  4815.000000  4815.000000  \n",
       "mean      1.111973     1.165897    28.349657     2.533325    18.805155  \n",
       "std       1.396243     1.004542    38.578050     3.061383    18.965475  \n",
       "min       0.030000     0.030000     0.040000     0.030000     0.010000  \n",
       "25%       0.410000     0.460000     5.780000     0.930000     8.100000  \n",
       "50%       0.700000     0.880000    12.210000     1.460000    12.960000  \n",
       "75%       1.250000     1.577500    33.980000     2.600000    22.125000  \n",
       "max      23.920000    13.730000   354.700000    20.180000   256.880000  "
      ]
     },
     "execution_count": 3,
     "metadata": {},
     "output_type": "execute_result"
    }
   ],
   "source": [
    "df.describe()"
   ]
  },
  {
   "cell_type": "code",
   "execution_count": null,
   "metadata": {},
   "outputs": [],
   "source": []
  },
  {
   "cell_type": "code",
   "execution_count": 4,
   "metadata": {},
   "outputs": [],
   "source": [
    "#df['Lable_Crop_type'] = df['Crop_type']\n",
    "\n",
    "df = df.drop(\"Crop_type\",1)\n",
    "df = df.drop(\"Soil_type\",1)\n",
    "df = df.drop(\"Extent_AC\",1)\n",
    "\n",
    "df = df.apply(pd.to_numeric)\n",
    "\n",
    "X = df.iloc[:,:].values\n",
    "#Y = df.iloc[:,-1].values\n"
   ]
  },
  {
   "cell_type": "code",
   "execution_count": 5,
   "metadata": {
    "scrolled": true
   },
   "outputs": [
    {
     "name": "stdout",
     "output_type": "stream",
     "text": [
      "[[1.408e+01 7.769e+01 6.190e+00 7.000e-02 1.800e-01 7.130e+00 4.100e+01\n",
      "  5.870e+02 1.010e+02 5.160e+00 3.000e-01 1.700e-01 8.890e+00 5.100e-01\n",
      "  1.524e+01]\n",
      " [1.409e+01 7.769e+01 8.400e+00 3.300e-01 3.100e-01 1.034e+01 1.020e+02\n",
      "  8.110e+02 2.610e+02 9.910e+00 3.600e-01 5.700e-01 3.240e+00 4.400e-01\n",
      "  6.900e+00]\n",
      " [1.409e+01 7.769e+01 7.100e+00 1.100e-01 1.700e-01 8.460e+00 4.600e+01\n",
      "  5.820e+02 4.800e+01 3.770e+00 3.700e-01 1.900e-01 5.540e+00 4.200e-01\n",
      "  8.340e+00]\n",
      " [1.410e+01 7.770e+01 8.300e+00 2.100e-01 2.000e-01 2.310e+00 3.500e+01\n",
      "  3.048e+03 5.200e+01 4.140e+00 2.300e-01 2.100e-01 1.790e+00 6.700e-01\n",
      "  4.170e+00]\n",
      " [1.409e+01 7.769e+01 6.400e+00 6.000e-02 2.200e-01 6.080e+00 7.600e+01\n",
      "  5.110e+02 8.400e+01 1.450e+00 3.600e-01 2.200e-01 2.226e+01 4.500e-01\n",
      "  9.200e+00]\n",
      " [1.409e+01 7.769e+01 7.780e+00 1.400e-01 2.100e-01 5.680e+00 4.400e+01\n",
      "  1.161e+03 7.100e+01 2.200e+00 6.900e-01 2.380e+00 2.830e+00 6.400e-01\n",
      "  4.410e+00]\n",
      " [1.409e+01 7.769e+01 6.300e+00 6.000e-02 2.800e-01 2.080e+00 5.100e+01\n",
      "  6.120e+02 1.220e+02 4.540e+00 5.900e-01 2.800e-01 7.110e+00 5.600e-01\n",
      "  1.707e+01]\n",
      " [1.409e+01 7.769e+01 6.250e+00 7.000e-02 3.100e-01 1.980e+00 4.200e+01\n",
      "  1.016e+03 1.720e+02 4.200e+00 3.500e-01 3.200e-01 7.290e+00 6.000e-01\n",
      "  1.739e+01]\n",
      " [1.410e+01 7.770e+01 6.320e+00 9.000e-02 1.600e-01 1.320e+00 6.200e+01\n",
      "  8.250e+02 3.090e+02 2.770e+00 2.300e-01 2.200e-01 4.450e+00 5.800e-01\n",
      "  7.640e+00]\n",
      " [1.408e+01 7.769e+01 7.910e+00 2.100e-01 2.500e-01 2.210e+00 6.000e+01\n",
      "  1.977e+03 2.160e+02 2.890e+00 1.800e-01 2.300e-01 3.230e+00 8.200e-01\n",
      "  5.710e+00]]\n"
     ]
    }
   ],
   "source": [
    "print(X[0:10])"
   ]
  },
  {
   "cell_type": "code",
   "execution_count": 6,
   "metadata": {},
   "outputs": [
    {
     "data": {
      "text/plain": [
       "(4815, 15)"
      ]
     },
     "execution_count": 6,
     "metadata": {},
     "output_type": "execute_result"
    }
   ],
   "source": [
    "X.shape"
   ]
  },
  {
   "cell_type": "code",
   "execution_count": 7,
   "metadata": {},
   "outputs": [
    {
     "data": {
      "text/plain": [
       "<matplotlib.axes._subplots.AxesSubplot at 0x7f93e9764e80>"
      ]
     },
     "execution_count": 7,
     "metadata": {},
     "output_type": "execute_result"
    },
    {
     "data": {
      "image/png": "[encoded data removed]",
      "text/plain": [
       "<Figure size 432x288 with 1 Axes>"
      ]
     },
     "metadata": {
      "needs_background": "light"
     },
     "output_type": "display_data"
    }
   ],
   "source": [
    "sns.distplot(X[0])\n"
   ]
  },
  {
   "cell_type": "code",
   "execution_count": 9,
   "metadata": {},
   "outputs": [
    {
     "data": {
      "text/plain": [
       "<matplotlib.axes._subplots.AxesSubplot at 0x7f93e7398208>"
      ]
     },
     "execution_count": 9,
     "metadata": {},
     "output_type": "execute_result"
    },
    {
     "data": {
      "image/png": "[encoded data removed]",
      "text/plain": [
       "<Figure size 432x288 with 1 Axes>"
      ]
     },
     "metadata": {
      "needs_background": "light"
     },
     "output_type": "display_data"
    }
   ],
   "source": [
    "sns.distplot(X[1])\n"
   ]
  },
  {
   "cell_type": "code",
   "execution_count": 10,
   "metadata": {},
   "outputs": [
    {
     "data": {
      "text/plain": [
       "<matplotlib.axes._subplots.AxesSubplot at 0x7f93e7353080>"
      ]
     },
     "execution_count": 10,
     "metadata": {},
     "output_type": "execute_result"
    },
    {
     "data": {
      "image/png": "[encoded data removed]",
      "text/plain": [
       "<Figure size 432x288 with 1 Axes>"
      ]
     },
     "metadata": {
      "needs_background": "light"
     },
     "output_type": "display_data"
    }
   ],
   "source": [
    "sns.distplot(X[2])\n"
   ]
  },
  {
   "cell_type": "code",
   "execution_count": 11,
   "metadata": {},
   "outputs": [
    {
     "data": {
      "text/plain": [
       "<matplotlib.axes._subplots.AxesSubplot at 0x7f93e726a5f8>"
      ]
     },
     "execution_count": 11,
     "metadata": {},
     "output_type": "execute_result"
    },
    {
     "data": {
      "image/png": "[encoded data removed]",
      "text/plain": [
       "<Figure size 432x288 with 1 Axes>"
      ]
     },
     "metadata": {
      "needs_background": "light"
     },
     "output_type": "display_data"
    }
   ],
   "source": [
    "sns.distplot(X[3])\n"
   ]
  },
  {
   "cell_type": "code",
   "execution_count": 12,
   "metadata": {},
   "outputs": [
    {
     "data": {
      "text/plain": [
       "<matplotlib.axes._subplots.AxesSubplot at 0x7f93e71facc0>"
      ]
     },
     "execution_count": 12,
     "metadata": {},
     "output_type": "execute_result"
    },
    {
     "data": {
      "image/png": "[encoded data removed]",
      "text/plain": [
       "<Figure size 432x288 with 1 Axes>"
      ]
     },
     "metadata": {
      "needs_background": "light"
     },
     "output_type": "display_data"
    }
   ],
   "source": [
    "sns.distplot(X[4])\n"
   ]
  },
  {
   "cell_type": "code",
   "execution_count": 14,
   "metadata": {},
   "outputs": [
    {
     "data": {
      "text/plain": [
       "<matplotlib.axes._subplots.AxesSubplot at 0x7f93e7120358>"
      ]
     },
     "execution_count": 14,
     "metadata": {},
     "output_type": "execute_result"
    },
    {
     "data": {
      "image/png": "[encoded data removed]",
      "text/plain": [
       "<Figure size 432x288 with 1 Axes>"
      ]
     },
     "metadata": {
      "needs_background": "light"
     },
     "output_type": "display_data"
    }
   ],
   "source": [
    "sns.distplot(X[5])"
   ]
  },
  {
   "cell_type": "code",
   "execution_count": 15,
   "metadata": {},
   "outputs": [
    {
     "data": {
      "text/plain": [
       "<matplotlib.axes._subplots.AxesSubplot at 0x7f93e6fac5f8>"
      ]
     },
     "execution_count": 15,
     "metadata": {},
     "output_type": "execute_result"
    },
    {
     "data": {
      "image/png": "[encoded data removed]",
      "text/plain": [
       "<Figure size 432x288 with 1 Axes>"
      ]
     },
     "metadata": {
      "needs_background": "light"
     },
     "output_type": "display_data"
    }
   ],
   "source": [
    "sns.distplot(X[6])\n"
   ]
  },
  {
   "cell_type": "code",
   "execution_count": 17,
   "metadata": {},
   "outputs": [
    {
     "data": {
      "text/plain": [
       "<matplotlib.axes._subplots.AxesSubplot at 0x7f93e726aa90>"
      ]
     },
     "execution_count": 17,
     "metadata": {},
     "output_type": "execute_result"
    },
    {
     "data": {
      "image/png": "[encoded data removed]",
      "text/plain": [
       "<Figure size 432x288 with 1 Axes>"
      ]
     },
     "metadata": {
      "needs_background": "light"
     },
     "output_type": "display_data"
    }
   ],
   "source": [
    "sns.distplot(X[7])\n"
   ]
  },
  {
   "cell_type": "code",
   "execution_count": 19,
   "metadata": {},
   "outputs": [
    {
     "data": {
      "text/plain": [
       "<matplotlib.axes._subplots.AxesSubplot at 0x7f93e6c99d30>"
      ]
     },
     "execution_count": 19,
     "metadata": {},
     "output_type": "execute_result"
    },
    {
     "data": {
      "image/png": "[encoded data removed]",
      "text/plain": [
       "<Figure size 432x288 with 1 Axes>"
      ]
     },
     "metadata": {
      "needs_background": "light"
     },
     "output_type": "display_data"
    }
   ],
   "source": [
    "sns.distplot(X[8])"
   ]
  },
  {
   "cell_type": "code",
   "execution_count": 20,
   "metadata": {},
   "outputs": [
    {
     "data": {
      "text/plain": [
       "<matplotlib.axes._subplots.AxesSubplot at 0x7f93e6c321d0>"
      ]
     },
     "execution_count": 20,
     "metadata": {},
     "output_type": "execute_result"
    },
    {
     "data": {
      "image/png": "[encoded data removed]",
      "text/plain": [
       "<Figure size 432x288 with 1 Axes>"
      ]
     },
     "metadata": {
      "needs_background": "light"
     },
     "output_type": "display_data"
    }
   ],
   "source": [
    "sns.distplot(X[9])"
   ]
  },
  {
   "cell_type": "code",
   "execution_count": 22,
   "metadata": {},
   "outputs": [
    {
     "data": {
      "image/png": "[encoded data removed]",
      "text/plain": [
       "<Figure size 432x288 with 1 Axes>"
      ]
     },
     "metadata": {
      "needs_background": "light"
     },
     "output_type": "display_data"
    }
   ],
   "source": [
    "for i in range(0,15):\n",
    "    sns.distplot(X[i])"
   ]
  },
  {
   "cell_type": "code",
   "execution_count": null,
   "metadata": {},
   "outputs": [],
   "source": []
  }
 ],
 "metadata": {
  "kernelspec": {
   "display_name": "Python 3",
   "language": "python",
   "name": "python3"
  },
  "language_info": {
   "codemirror_mode": {
    "name": "ipython",
    "version": 3
   },
   "file_extension": ".py",
   "mimetype": "text/x-python",
   "name": "python",
   "nbconvert_exporter": "python",
   "pygments_lexer": "ipython3",
   "version": "3.6.8"
  }
 },
 "nbformat": 4,
 "nbformat_minor": 2
}
